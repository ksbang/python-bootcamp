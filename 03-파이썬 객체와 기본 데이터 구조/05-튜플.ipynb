{
 "cells": [
  {
   "cell_type": "markdown",
   "metadata": {},
   "source": [
    "# 튜플(tuple)\n",
    "\n",
    "파이썬에서 튜플은 리스트와 거의 동일합니다만, 불가변(*immutable*) 성질을 가지는 그 항목의 내용 자체가 수정될 수 없는 것만 다릅니다. (예를 들면 일주일의 월,화,수,목,금,토,일 또는 한달의 날짜 등은 수정될 수 없는 불변입니다)\n",
    "\n",
    "이 강좌에서는 다음과 같은 내용을 다룰 것입니다.\n",
    "\n",
    "    1.) 튜플의 생성\n",
    "    2.) 기본 튜플 메서드\n",
    "    3.) 불변성 (Immutability)\n",
    "    4.) 어느 상황에서 튜플을 이용하는가\n",
    "\n",
    "리스트에서 배웠던 것에 기초로하여 튜플을 어떤 상황에서 사용하는지 배울 것입니다. \n",
    "\n",
    "## 튜플의 생성\n",
    "\n",
    "괄호 ( ) 안에 콤마로 분리된 항목들을 이용하여 튜플을 정의합니다. (리스트에서는 대괄호 [ ] 이용)"
   ]
  },
  {
   "cell_type": "code",
   "execution_count": 1,
   "metadata": {
    "collapsed": true
   },
   "outputs": [],
   "source": [
    "# 아래와 같이 숫자 이외에 문자열 등의 다른 자료형도 함께 담을 수 있습니다\n",
    "t = (1,2,3)"
   ]
  },
  {
   "cell_type": "code",
   "execution_count": 2,
   "metadata": {},
   "outputs": [
    {
     "data": {
      "text/plain": [
       "3"
      ]
     },
     "execution_count": 2,
     "metadata": {},
     "output_type": "execute_result"
    }
   ],
   "source": [
    "# 리스트에서와 마찬가지로 담고 있는 항목 개수를 len() 함수로 구할 수 있습니다\n",
    "len(t)"
   ]
  },
  {
   "cell_type": "code",
   "execution_count": 3,
   "metadata": {},
   "outputs": [
    {
     "data": {
      "text/plain": [
       "('one', 2)"
      ]
     },
     "execution_count": 3,
     "metadata": {},
     "output_type": "execute_result"
    }
   ],
   "source": [
    "# 서로 다른 자료 형을 하나의 튜플에 보관\n",
    "t = ('one',2)\n",
    "\n",
    "# 보기\n",
    "t"
   ]
  },
  {
   "cell_type": "code",
   "execution_count": 4,
   "metadata": {},
   "outputs": [
    {
     "data": {
      "text/plain": [
       "'one'"
      ]
     },
     "execution_count": 4,
     "metadata": {},
     "output_type": "execute_result"
    }
   ],
   "source": [
    "# 리스트에서와 마찬가지 방법으로 색인을 이용한 접근\n",
    "t[0]"
   ]
  },
  {
   "cell_type": "code",
   "execution_count": 5,
   "metadata": {},
   "outputs": [
    {
     "data": {
      "text/plain": [
       "2"
      ]
     },
     "execution_count": 5,
     "metadata": {},
     "output_type": "execute_result"
    }
   ],
   "source": [
    "# 리스트에서와 동일하게 슬라이싱 (음수로 마지막 항목 가져오기)\n",
    "t[-1]"
   ]
  },
  {
   "cell_type": "markdown",
   "metadata": {},
   "source": [
    "## 기본 튜플 메서드\n",
    "\n",
    "튜플 또한 내장 메서드를 가지고 있으나 리스트 만큼 많지는 않습니다. 그 중 두 가지만 살펴보겠습니다."
   ]
  },
  {
   "cell_type": "code",
   "execution_count": 6,
   "metadata": {},
   "outputs": [
    {
     "data": {
      "text/plain": [
       "0"
      ]
     },
     "execution_count": 6,
     "metadata": {},
     "output_type": "execute_result"
    }
   ],
   "source": [
    "# 어느 항목이 어느 색인에 들어가 있는가 조사\n",
    "t.index('one')"
   ]
  },
  {
   "cell_type": "code",
   "execution_count": 7,
   "metadata": {},
   "outputs": [
    {
     "data": {
      "text/plain": [
       "1"
      ]
     },
     "execution_count": 7,
     "metadata": {},
     "output_type": "execute_result"
    }
   ],
   "source": [
    "# 해당 항목 값이 튜플에서 몇번 등작하는가 조사\n",
    "t.count('one')"
   ]
  },
  {
   "cell_type": "markdown",
   "metadata": {},
   "source": [
    "## 불변성(Immutability)\n",
    "\n",
    "튜플은 불변성의 성질 때문에 포함하는 항목은 불변 혹은 읽기만 가능합니다."
   ]
  },
  {
   "cell_type": "code",
   "execution_count": 8,
   "metadata": {},
   "outputs": [
    {
     "ename": "TypeError",
     "evalue": "'tuple' object does not support item assignment",
     "output_type": "error",
     "traceback": [
      "\u001b[0;31m---------------------------------------------------------------------------\u001b[0m",
      "\u001b[0;31mTypeError\u001b[0m                                 Traceback (most recent call last)",
      "\u001b[0;32m<ipython-input-8-93def5f9b4bd>\u001b[0m in \u001b[0;36m<module>\u001b[0;34m()\u001b[0m\n\u001b[0;32m----> 1\u001b[0;31m \u001b[0mt\u001b[0m\u001b[0;34m[\u001b[0m\u001b[0;36m0\u001b[0m\u001b[0;34m]\u001b[0m\u001b[0;34m=\u001b[0m \u001b[0;34m'change'\u001b[0m\u001b[0;34m\u001b[0m\u001b[0m\n\u001b[0m",
      "\u001b[0;31mTypeError\u001b[0m: 'tuple' object does not support item assignment"
     ]
    }
   ],
   "source": [
    "t[0]= 'change'"
   ]
  },
  {
   "cell_type": "markdown",
   "metadata": {},
   "source": [
    "불변의 성질은 또한 최초 생성된 항목에서 더 추가되는 것도 할 수 없다는 것을 의미합니다."
   ]
  },
  {
   "cell_type": "code",
   "execution_count": 9,
   "metadata": {},
   "outputs": [
    {
     "ename": "AttributeError",
     "evalue": "'tuple' object has no attribute 'append'",
     "output_type": "error",
     "traceback": [
      "\u001b[0;31m---------------------------------------------------------------------------\u001b[0m",
      "\u001b[0;31mAttributeError\u001b[0m                            Traceback (most recent call last)",
      "\u001b[0;32m<ipython-input-9-799b3447c4d9>\u001b[0m in \u001b[0;36m<module>\u001b[0;34m()\u001b[0m\n\u001b[0;32m----> 1\u001b[0;31m \u001b[0mt\u001b[0m\u001b[0;34m.\u001b[0m\u001b[0mappend\u001b[0m\u001b[0;34m(\u001b[0m\u001b[0;34m'nope'\u001b[0m\u001b[0;34m)\u001b[0m\u001b[0;34m\u001b[0m\u001b[0m\n\u001b[0m",
      "\u001b[0;31mAttributeError\u001b[0m: 'tuple' object has no attribute 'append'"
     ]
    }
   ],
   "source": [
    "t.append('nope')"
   ]
  },
  {
   "cell_type": "markdown",
   "metadata": {},
   "source": [
    "## 튜플을 이용하여야 할 때\n",
    "\n",
    "그러면 의문을 가질 수 있습니다. \n",
    "> \"리스트도 있는데 적은 수의 메서드를 갖는 튜플을 굳이 이용하여야 하는가?\"\n",
    "\n",
    "사실 실제 프로그래밍에서 리스트 보다 튜플이 더 적게 사용되는 경우가 많습니다만 불변성 이라는 성질이 꼭 필요한 경우는 꽤 있습니다. 만약 프로그램에서 어떤 객체의 목록을 만들었고 이를 중간에 변경되면 안될 상황이 발생할 때 이 튜플이 바로 정답입니다. 바로 자료에 대한 무결성을 제공하기 때문입니다."
   ]
  },
  {
   "cell_type": "code",
   "execution_count": null,
   "metadata": {
    "collapsed": true
   },
   "outputs": [],
   "source": []
  }
 ],
 "metadata": {
  "kernelspec": {
   "display_name": "Python 2",
   "language": "python",
   "name": "python2"
  },
  "language_info": {
   "codemirror_mode": {
    "name": "ipython",
    "version": 2
   },
   "file_extension": ".py",
   "mimetype": "text/x-python",
   "name": "python",
   "nbconvert_exporter": "python",
   "pygments_lexer": "ipython2",
   "version": "2.7.12"
  }
 },
 "nbformat": 4,
 "nbformat_minor": 1
}
