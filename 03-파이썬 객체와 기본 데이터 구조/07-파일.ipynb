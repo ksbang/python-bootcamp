{
 "cells": [
  {
   "cell_type": "markdown",
   "metadata": {},
   "source": [
    "# 파일\n",
    "\n",
    "파이썬은 컴퓨터에 있는 외부 파일을 다루기 위한 파일 객체를 사용합니다. 이런 파일 객체는 텍스트 파일 뿐만 아니라 오디오 파일, 이메일 또는 엑셀 문서등과 같은 컴퓨터에 있는 어떤 종류의 파일일 수 있습니다.\n",
    "\n",
    "노트: 일반 텍스트가 아닌 파일인 경우 해당 파일을 처리하기 위한 특별한 라이브러리나 모듈이 필요할 수 있습니다만, 보통 쉽게 검색하고 찾을 수 있 있습니다. (이후 모듈을 다운로드하고 사용하는 방법에 대해 알아보겠습니다)\n",
    "\n",
    "파이썬은 open 내장 함수를 이용하여 기본적인 파일 형을 처리합니다. 또한 iPython으로 텍스트 파일을 생성하는 것을 다룹니다.\n",
    "\n",
    "## iPython으로 파일 출력"
   ]
  },
  {
   "cell_type": "code",
   "execution_count": 1,
   "metadata": {},
   "outputs": [
    {
     "name": "stdout",
     "output_type": "stream",
     "text": [
      "Overwriting test.txt\n"
     ]
    }
   ],
   "source": [
    "%%writefile test.txt\n",
    "Hello, this is a quick test file"
   ]
  },
  {
   "cell_type": "markdown",
   "metadata": {},
   "source": [
    "## 파일 open\n",
    "\n",
    "open() 함수를 이용하여 파일을 엽니다. open 함수는 인자 (또는 패러미터로도 불리는)를 필요로 합니다. 아래와 같이 살펴봅니다."
   ]
  },
  {
   "cell_type": "code",
   "execution_count": 2,
   "metadata": {
    "collapsed": true
   },
   "outputs": [],
   "source": [
    "# 위의 iPython의 writefile에서 만든 text.txt를 엽니다\n",
    "my_file = open('test.txt')"
   ]
  },
  {
   "cell_type": "code",
   "execution_count": 3,
   "metadata": {},
   "outputs": [
    {
     "data": {
      "text/plain": [
       "'Hello, this is a quick test file'"
      ]
     },
     "execution_count": 3,
     "metadata": {},
     "output_type": "execute_result"
    }
   ],
   "source": [
    "# 해당 파일을 모두 읽습니다.\n",
    "my_file.read()"
   ]
  },
  {
   "cell_type": "code",
   "execution_count": 4,
   "metadata": {},
   "outputs": [
    {
     "data": {
      "text/plain": [
       "''"
      ]
     },
     "execution_count": 4,
     "metadata": {},
     "output_type": "execute_result"
    }
   ],
   "source": [
    "# 다시 한번 읽으려고 시도한다면,\n",
    "my_file.read()"
   ]
  },
  {
   "cell_type": "markdown",
   "metadata": {},
   "source": [
    "두번째 읽은 결과는 없습니다. 그 이유는 파일을 읽은 때 \"커서\" 방식으로 읽는 다고 생각하면 됩니다. 일단 첫번째 read()에서 모두 읽고 커서가 파일의 마지막가지 갔기 때문에 다시 읽으면 비어있는 결과를 얻게 된 방식입니다.\n",
    "하지만 seek()를 이용하여 커서 위치를 이동시킬 수 있습니다."
   ]
  },
  {
   "cell_type": "code",
   "execution_count": 5,
   "metadata": {
    "collapsed": true
   },
   "outputs": [],
   "source": [
    "# 파일의 제일 앞으로 이동시킵니다. (색인 0)\n",
    "my_file.seek(0)"
   ]
  },
  {
   "cell_type": "code",
   "execution_count": 6,
   "metadata": {},
   "outputs": [
    {
     "data": {
      "text/plain": [
       "'Hello, this is a quick test file'"
      ]
     },
     "execution_count": 6,
     "metadata": {},
     "output_type": "execute_result"
    }
   ],
   "source": [
    "# 다시 읽을 수 있습니다\n",
    "my_file.read()"
   ]
  },
  {
   "cell_type": "markdown",
   "metadata": {},
   "source": [
    "매번 모든 파일의 내용을 읽어올 필요는 없습니다. readlines() 메서드를 이용하여 필요한 줄만큼 얻을 수 있습니다. 만약 파일이 무척 큰 경우에 read()를 이용한다면 모든 파일을 읽어 메모리에 보관할 것이므로 메모리가 부족할 수도 있습니다. 이런 경우 readlines()를 이용하여 파일의 부분 부분 읽어 올 수 있습니다. 매우 큰 파일을 다루는 방식에 대해 이후 살펴보도록 하겠습니다."
   ]
  },
  {
   "cell_type": "code",
   "execution_count": 7,
   "metadata": {},
   "outputs": [
    {
     "data": {
      "text/plain": [
       "[]"
      ]
     },
     "execution_count": 7,
     "metadata": {},
     "output_type": "execute_result"
    }
   ],
   "source": [
    "# 파일을 읽어 라인 별로 리스트에 담은 결과를 얻을 수 있습니다.\n",
    "my_file.readlines()"
   ]
  },
  {
   "cell_type": "markdown",
   "metadata": {},
   "source": [
    "## 파일로 출력\n",
    "\n",
    "일반적으로 기본적으로 open(파일명)으로 열었다면 파일을 읽은 수 있는 모드입니다. 패러미터에 'w' 옵션을 주어 기존 파일을 덮어 쓰면서 출력하도록 할 수 있습니다."
   ]
  },
  {
   "cell_type": "code",
   "execution_count": 8,
   "metadata": {
    "collapsed": true
   },
   "outputs": [],
   "source": [
    "# 쓰기 모드인 'w+' 모드로 두 번째 패러미터를 주어 쓰기 모드로 엽니다.\n",
    "my_file = open('test.txt','w+')"
   ]
  },
  {
   "cell_type": "code",
   "execution_count": 9,
   "metadata": {
    "collapsed": true
   },
   "outputs": [],
   "source": [
    "# 파일에 출력합니다\n",
    "my_file.write('This is a new line')"
   ]
  },
  {
   "cell_type": "code",
   "execution_count": 10,
   "metadata": {},
   "outputs": [
    {
     "data": {
      "text/plain": [
       "'This is a new line'"
      ]
     },
     "execution_count": 10,
     "metadata": {},
     "output_type": "execute_result"
    }
   ],
   "source": [
    "# 다시 읽어 봅니다\n",
    "my_file.seek(0)\n",
    "my_file.read()"
   ]
  },
  {
   "cell_type": "markdown",
   "metadata": {},
   "source": [
    "## 파일에 대하여 for 루프 사용해 보기\n",
    "\n",
    "텍스트 파일에 대하여 for 루프에 대해 간단하게 살펴보겠습니다. 우선 여러 줄을 iPython을 이용하여 만들어 봅니다."
   ]
  },
  {
   "cell_type": "code",
   "execution_count": 11,
   "metadata": {},
   "outputs": [
    {
     "name": "stdout",
     "output_type": "stream",
     "text": [
      "Overwriting test.txt\n"
     ]
    }
   ],
   "source": [
    "%%writefile test.txt\n",
    "First Line\n",
    "Second Line"
   ]
  },
  {
   "cell_type": "markdown",
   "metadata": {},
   "source": [
    "텍스트 파일을 열어 처리를 할 때는 한줄 한줄 처리할 경우가 많은데, 다음과 같이:"
   ]
  },
  {
   "cell_type": "code",
   "execution_count": 12,
   "metadata": {},
   "outputs": [
    {
     "name": "stdout",
     "output_type": "stream",
     "text": [
      "First Line\n",
      "\n",
      "Second Line\n"
     ]
    }
   ],
   "source": [
    "for line in open('test.txt'):\n",
    "    print line"
   ]
  },
  {
   "cell_type": "code",
   "execution_count": null,
   "metadata": {
    "collapsed": true
   },
   "outputs": [],
   "source": [
    "with open('test.txt') as ifp:\n",
    "    for line in ifp:\n",
    "        print"
   ]
  },
  {
   "cell_type": "markdown",
   "metadata": {},
   "source": [
    "for 루프에 대해서 완전히 이해가 되지 않아도 걱정하지 마십시오. 앞으로도 계속해서 다룰 예정입니다. 하지만 위의 내용에 대하여 간단히 살펴보겠습니다. 각 줄에 대해 처리를 하고 출력하는 간단한 내용입니다. 다음과 같은 절차를 따릅니다.\n",
    "\n",
    "    1.) 'line' 이라는 이름의 객체가 나옵니다.\n",
    "    2.) 파일의 .read() 메서드를 이용하여 파일의 모든 결과를 메모리에 가져오지 않습니다.\n",
    "    3.) 들여쓰기를 하고 그 내용에는 line을 출력합니다.\n",
    "\n",
    "\n",
    "We'll learn a lot more about this later, but up next: Sets and Booleans!"
   ]
  },
  {
   "cell_type": "code",
   "execution_count": 46,
   "metadata": {},
   "outputs": [
    {
     "name": "stdout",
     "output_type": "stream",
     "text": [
      "First Line\n",
      "\n",
      "Second Line\n"
     ]
    }
   ],
   "source": [
    "# line 대신 다른 이\n",
    "for asdf in open('test.txt'):\n",
    "    print asdf"
   ]
  },
  {
   "cell_type": "code",
   "execution_count": null,
   "metadata": {
    "collapsed": true
   },
   "outputs": [],
   "source": []
  }
 ],
 "metadata": {
  "kernelspec": {
   "display_name": "Python 2",
   "language": "python",
   "name": "python2"
  },
  "language_info": {
   "codemirror_mode": {
    "name": "ipython",
    "version": 2
   },
   "file_extension": ".py",
   "mimetype": "text/x-python",
   "name": "python",
   "nbconvert_exporter": "python",
   "pygments_lexer": "ipython2",
   "version": "2.7.12"
  }
 },
 "nbformat": 4,
 "nbformat_minor": 1
}
