{
 "cells": [
  {
   "cell_type": "markdown",
   "metadata": {},
   "source": [
    "# 함수(Functions)\n",
    "\n",
    "## 함수 소개\n",
    "\n",
    "이번 강의에서는 함수를 어떻게 만들고 이용하는지에 관하여 살펴보겠습니다. 우리는 어떤 문제를 해결하기 위하여 많은 양의 파이썬 코드를 구성하는데 있어 클래스와 더불어 함수를 주로 이용하게 됩니다. \n",
    "\n",
    "**함수란 무엇일까요?**\n",
    "\n",
    "일반적으로 함수란 한번 이상 반복되어 실행될 수 있는 일련의 명령에 관한 집합을 의미합니다. 또한 패러미터를 통하여 함수의 입력을 받습니다.\n",
    "\n",
    "한번 더 함수의 기본 기능 중에 반복된 코드를 줄이는 함수를 이용한다는 것을 명심합니다. 이전 강의를 다시 생각해보면 문자열과 리스트에서 len() 이라는 동일 이름의 함수를 이용하여 구성 항목들의 개수를 구했음을 알 수 있는데 이런 함수(메서드)가 없었다면 매번 항목을 세는 코드를 넣어야 할 것입니다.\n",
    "\n",
    "따라서 함수를 이용하여 어떻게 반복되는 코드를 나누고 묶을지, 또한 호출할 것에 대한 것이 궁극적으로 파이썬에서 프로그램 디자인을 어떻게 할지에 관한 내용을 이해하면 됩니다. (나중에 객체 지향 프로그래밍을 배우고 나서는 이런 디자인에 관하여 더욱 깊게 생각해 볼 것입니다)"
   ]
  },
  {
   "cell_type": "markdown",
   "metadata": {},
   "source": [
    "## def 문\n",
    "\n",
    "파이썬에 함수를 만드는 것에 관해 살펴봅니다. 다음과 같이,"
   ]
  },
  {
   "cell_type": "code",
   "execution_count": 1,
   "metadata": {},
   "outputs": [],
   "source": [
    "def name_of_function(arg1,arg2):\n",
    "    '''\n",
    "    이곳에 함수에 관한 설명문 (doc-string)이 나타납니다\n",
    "    '''\n",
    "    # 실제 함수 바디\n",
    "    #return 결과"
   ]
  },
  {
   "cell_type": "markdown",
   "metadata": {},
   "source": [
    "**def** 문 다음에 함수의 이름이 나타납니다. len() 이라는 이름이 length() 를 의미하는 것과 같은 의미있는 이름을 함수에 붙이는 것이 중요합니다. 파이썬에서 프로그램을 할 때 주의할 만한 여러 가지 중에서 중요한 것은 내장함수의 이름을 덮어 쓰지 않도록 하는 것입니다. ([built-in function in Python](https://docs.python.org/2/library/functions.html))\n",
    "\n",
    "함수명 다음에는 콤마로 구분된 괄호가 나옵니다. 이것은 패러미터 혹은 인자(argument)라 하는데 함수의 입력 값을 의미합니다. 그러면 함수의 내용에서 이 패러미터를 사용하여 값을 이용할 수 있습니다. 그 다음에는 콜론이 나옵니다.\n",
    "\n",
    "파이썬에서는 콜론이 나온 다음에는 항상 들여쓰기로 그 다음 단계의 코드를 시작합니다. (이전에 C, C++, Java, C# 등에서는 모두 중괄호를 이용하여 구문을 그룹화 한다고 한 적이 있습니다) 들여쓰기는 4개의 공백, 2개의 공백 등과 같이 동일한 개수의 공백 혹은 탭을 이용할 수도 있습니다. 한 프로그램 내에서 이 들여쓰기는 모두 동일하게 일치하여야 합니다. 예를 들어 어떤 들여쓰기는 4개의 공백을 주다가 다른 들여쓰기는 탭을 이용하거나 하면 오류가 발생합니다.\n",
    "\n",
    "그 아래에는 함수의 기본적인 설명 또는 입력 및 출력에 대해 설명하는 **doc-string**이 나타납니다. 인터프리터에서 help() 함수를 이용하거나 터미널에서 pydoc을 주거나 쥬피터 노트북에서 Shift+Tab키를 눌러 보여주는 도움말은 모두 이 doc-string을 보여주는 것입니다. 따라서 어떤 함수에 대해서 보여주는 설명글은 별도 존재할 필요가 없습니다. 함수를 작성할 때 이런 doc-string을 잘 작성하는 버릇을 들여야만 나중에 자신의 코드를 읽어도 그렇고 남들이 내 코드를 읽어도 쉽게 이해하고 해당 함수를 이용할 수 있습니다.\n",
    "\n",
    "위와 같은 함수를 작성할 준비를 마쳤다면 이제부터는 해당 코드를 작성하면 됩니다.\n",
    "\n",
    "이제 간단한 함수부터 예로 확인해 보겠습니다."
   ]
  },
  {
   "cell_type": "markdown",
   "metadata": {},
   "source": [
    "### 예제 1: 간단한 'hello' 를 출력하는 함수"
   ]
  },
  {
   "cell_type": "code",
   "execution_count": 2,
   "metadata": {
    "collapsed": true
   },
   "outputs": [],
   "source": [
    "def say_hello():\n",
    "    print 'hello'"
   ]
  },
  {
   "cell_type": "markdown",
   "metadata": {},
   "source": [
    "위와 같이 초간단 함수를 만들었고, 이를 호출하려면"
   ]
  },
  {
   "cell_type": "code",
   "execution_count": 3,
   "metadata": {},
   "outputs": [
    {
     "name": "stdout",
     "output_type": "stream",
     "text": [
      "hello\n"
     ]
    }
   ],
   "source": [
    "say_hello()"
   ]
  },
  {
   "cell_type": "markdown",
   "metadata": {},
   "source": [
    "### 예제 2: 간단한 인사 함수\n",
    "간단히 어떤 사람에게 인사하는 함수를 작성해 봅니다."
   ]
  },
  {
   "cell_type": "code",
   "execution_count": 4,
   "metadata": {
    "collapsed": true
   },
   "outputs": [],
   "source": [
    "def greeting(name):\n",
    "    print 'Hello %s' %name"
   ]
  },
  {
   "cell_type": "code",
   "execution_count": 6,
   "metadata": {},
   "outputs": [
    {
     "name": "stdout",
     "output_type": "stream",
     "text": [
      "Hello 길동\n"
     ]
    }
   ],
   "source": [
    "greeting('길동')"
   ]
  },
  {
   "cell_type": "markdown",
   "metadata": {},
   "source": [
    "## return 사용\n",
    "return 문장을 이용하여 보겠습니다. 함수의 마지막 부분에서 특정 변수 등을 *return*을 이용하여 결과를 함수 호출한 곳으로 돌려줍니다.\n",
    "\n",
    "### 예제 3: Addition function"
   ]
  },
  {
   "cell_type": "code",
   "execution_count": 7,
   "metadata": {
    "collapsed": true
   },
   "outputs": [],
   "source": [
    "def add_num(num1,num2):\n",
    "    return num1+num2"
   ]
  },
  {
   "cell_type": "code",
   "execution_count": 8,
   "metadata": {},
   "outputs": [
    {
     "data": {
      "text/plain": [
       "9"
      ]
     },
     "execution_count": 8,
     "metadata": {},
     "output_type": "execute_result"
    }
   ],
   "source": [
    "add_num(4,5)"
   ]
  },
  {
   "cell_type": "code",
   "execution_count": 9,
   "metadata": {
    "collapsed": true
   },
   "outputs": [],
   "source": [
    "# 함수가 return하는 것은 값이기 때문에 다른 변수를 이용할 수 있습니다\n",
    "result = add_num(4,5)"
   ]
  },
  {
   "cell_type": "code",
   "execution_count": 10,
   "metadata": {},
   "outputs": [
    {
     "name": "stdout",
     "output_type": "stream",
     "text": [
      "9\n"
     ]
    }
   ],
   "source": [
    "print result"
   ]
  },
  {
   "cell_type": "markdown",
   "metadata": {},
   "source": [
    "만약 숫자 대신 문자열 두 개를 넣고 호출하면?"
   ]
  },
  {
   "cell_type": "code",
   "execution_count": 11,
   "metadata": {},
   "outputs": [
    {
     "name": "stdout",
     "output_type": "stream",
     "text": [
      "onetwo\n"
     ]
    }
   ],
   "source": [
    "print add_num('one','two')"
   ]
  },
  {
   "cell_type": "markdown",
   "metadata": {},
   "source": [
    "\n",
    "Note that because we don't declare variable types in Python, this function could be used to add numbers or sequences together! We'll later learn about adding in checks to make sure a user puts in the correct arguments into a function.\n",
    "\n",
    "Lets also start using *break*,*continue*, and *pass* statements in our code. We introduced these during the while lecture."
   ]
  },
  {
   "cell_type": "markdown",
   "metadata": {
    "collapsed": true
   },
   "source": [
    "Finally lets go over a full example of creating a function to check if a number is prime ( a common interview exercise).\n",
    "\n",
    "We know a number is prime if that number is only evenly divisible by 1 and itself. Let's write our first version of the function to check all the numbers from 1 to N and perform modulo checks."
   ]
  },
  {
   "cell_type": "code",
   "execution_count": 8,
   "metadata": {
    "collapsed": true
   },
   "outputs": [],
   "source": [
    "def is_prime(num):\n",
    "    '''\n",
    "    Naive method of checking for primes. \n",
    "    '''\n",
    "    for n in range(2,num):\n",
    "        if num % n == 0:\n",
    "            print 'not prime'\n",
    "            break\n",
    "    else: # If never mod zero, then prime\n",
    "        print 'prime'"
   ]
  },
  {
   "cell_type": "code",
   "execution_count": 9,
   "metadata": {},
   "outputs": [
    {
     "name": "stdout",
     "output_type": "stream",
     "text": [
      "not prime\n"
     ]
    }
   ],
   "source": [
    "is_prime(16)"
   ]
  },
  {
   "cell_type": "markdown",
   "metadata": {},
   "source": [
    "Note how we break the code after the print statement! We can actually improve this by only checking to the square root of the target number, also we can disregard all even numbers after checking for 2. We'll also switch to returning a boolean value to get an example of using return statements:"
   ]
  },
  {
   "cell_type": "code",
   "execution_count": 15,
   "metadata": {},
   "outputs": [],
   "source": [
    "import math\n",
    "\n",
    "def is_prime(num):\n",
    "    '''\n",
    "    Better method of checking for primes. \n",
    "    '''\n",
    "    if num % 2 == 0 and num > 2: \n",
    "        return False\n",
    "    for i in range(3, int(math.sqrt(num)) + 1, 2):\n",
    "        if num % i == 0:\n",
    "            return False\n",
    "    return True"
   ]
  },
  {
   "cell_type": "code",
   "execution_count": 16,
   "metadata": {},
   "outputs": [
    {
     "data": {
      "text/plain": [
       "False"
      ]
     },
     "execution_count": 16,
     "metadata": {},
     "output_type": "execute_result"
    }
   ],
   "source": [
    "is_prime(14)"
   ]
  },
  {
   "cell_type": "markdown",
   "metadata": {},
   "source": [
    "Great! You should now have a basic understanding of creating your own functions to save yourself from repeatedly writing code!"
   ]
  }
 ],
 "metadata": {
  "kernelspec": {
   "display_name": "Python 2",
   "language": "python",
   "name": "python2"
  },
  "language_info": {
   "codemirror_mode": {
    "name": "ipython",
    "version": 2
   },
   "file_extension": ".py",
   "mimetype": "text/x-python",
   "name": "python",
   "nbconvert_exporter": "python",
   "pygments_lexer": "ipython2",
   "version": "2.7.12"
  }
 },
 "nbformat": 4,
 "nbformat_minor": 1
}
